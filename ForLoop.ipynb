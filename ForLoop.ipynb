{
 "cells": [
  {
   "cell_type": "markdown",
   "id": "6f1ba206-aa3d-41cd-8fac-74f4e9235fd7",
   "metadata": {},
   "source": [
    "#### For Loop"
   ]
  },
  {
   "cell_type": "code",
   "execution_count": 34,
   "id": "ca55f764-7bf9-4a97-b666-ba4b7e362dca",
   "metadata": {},
   "outputs": [
    {
     "data": {
      "text/plain": [
       "{12: 'even', 13: 'odd', 14: 'even', 15: 'odd', 16: 'even'}"
      ]
     },
     "execution_count": 34,
     "metadata": {},
     "output_type": "execute_result"
    }
   ],
   "source": [
    "x=[12,13,14,15,16]\n",
    "y={}\n",
    "for i in x:\n",
    "    if i%2==0:\n",
    "      y.update({i:\"even\"})     # using update \n",
    "    else:\n",
    "      y.update({i:\"odd\"})\n",
    "y"
   ]
  },
  {
   "cell_type": "code",
   "execution_count": 36,
   "id": "49c650da-0f81-45ad-8c28-1133388b27ed",
   "metadata": {},
   "outputs": [
    {
     "data": {
      "text/plain": [
       "{12: 'even', 13: 'odd', 14: 'even', 15: 'odd', 16: 'even'}"
      ]
     },
     "execution_count": 36,
     "metadata": {},
     "output_type": "execute_result"
    }
   ],
   "source": [
    "x=[12,13,14,15,16]\n",
    "y={}\n",
    "for i in x:\n",
    "    if i%2==0:\n",
    "      y[i]=\"even\"         # using direct key to value format\n",
    "    else:\n",
    "      y[i]=\"odd\"\n",
    "y"
   ]
  },
  {
   "cell_type": "code",
   "execution_count": 97,
   "id": "f7b24b30-2029-4a7a-a02a-7197bb11b2b2",
   "metadata": {},
   "outputs": [
    {
     "name": "stdin",
     "output_type": "stream",
     "text": [
      "Enter Your Number Whether It is armstrong or Not : 143\n"
     ]
    },
    {
     "name": "stdout",
     "output_type": "stream",
     "text": [
      "143  Not an Armstrong\n"
     ]
    }
   ],
   "source": [
    "#153\n",
    "x=str(input(\"Enter Your Number Whether It is armstrong or Not :\"))\n",
    "b=len(x)\n",
    "y=0\n",
    "for i in range(b):\n",
    "   y+=int(x[i])**b\n",
    "\n",
    "if int(x)==y:\n",
    "    print(int(x),\"armstrong\")\n",
    "else:\n",
    "    print(int(x),\" Not an Armstrong\")"
   ]
  },
  {
   "cell_type": "code",
   "execution_count": 22,
   "id": "881f67df-3f90-4a47-be4d-c55e363f8678",
   "metadata": {},
   "outputs": [
    {
     "name": "stdout",
     "output_type": "stream",
     "text": [
      "1\n",
      "2\n",
      "3\n",
      "4\n",
      "5\n",
      "6\n",
      "7\n",
      "8\n",
      "9\n",
      "THIS IS ELSE BLOCK\n"
     ]
    }
   ],
   "source": [
    "# FOR ELSE LOOPS\n",
    "for i in range(1,10):\n",
    "    print(i)\n",
    "else:\n",
    "    print(\"THIS IS ELSE BLOCK\")          # IF THE FOR LOOP THROWS AN NULL VALUE OR ENDED AFTER THAT THIS ELSE WILL BE EXECUTED"
   ]
  },
  {
   "cell_type": "code",
   "execution_count": 23,
   "id": "7c3aa72b-e4b2-4526-a6e3-e7644a5cbaee",
   "metadata": {},
   "outputs": [
    {
     "name": "stdout",
     "output_type": "stream",
     "text": [
      "1\n",
      "2\n",
      "3\n",
      "4\n",
      "5\n",
      "THIS IS ELSE BLOCK\n"
     ]
    }
   ],
   "source": [
    "# WHILE ELSE LOOPS\n",
    "i=1\n",
    "while i<=5:\n",
    "    print(i)\n",
    "    i+=1\n",
    "else:\n",
    "    print(\"THIS IS ELSE BLOCK\") # IF WHILE LOOP THROWS AN NULL VALUE OR ENDED AFTER THAT THIS ELSE WILL BE EXECUTED"
   ]
  },
  {
   "cell_type": "code",
   "execution_count": 10,
   "id": "5760ec80-c6d6-407e-83ac-c8abcd9cc0e2",
   "metadata": {},
   "outputs": [
    {
     "name": "stdin",
     "output_type": "stream",
     "text": [
      "Enter a number Whether It is Armstrong or NOT [153,12]\n"
     ]
    },
    {
     "name": "stdout",
     "output_type": "stream",
     "text": [
      "{153: 'Armstrong', 12: 'INVALID INPUT,Not Armstrong'}\n"
     ]
    }
   ],
   "source": [
    "x1 =eval(input(\"Enter a number Whether It is Armstrong or NOT\"))\n",
    "A = {}\n",
    "\n",
    "for X in x1:\n",
    "    if len(str(X)) < 3:\n",
    "        A[X] = \"INVALID INPUT,Not Armstrong\"\n",
    "    else:\n",
    "        B = str(X)\n",
    "        C = len(B)\n",
    "        y = 0\n",
    "        for x2 in B:\n",
    "            y += int(x2) ** C\n",
    "        if X == y:\n",
    "            A[X] = \"Armstrong\"\n",
    "        else:\n",
    "            A[X] = \"Not Armstrong\"\n",
    "\n",
    "print(A)\n"
   ]
  },
  {
   "cell_type": "code",
   "execution_count": 4,
   "id": "c1970813-f6d6-4980-b35c-eb3807e26eb5",
   "metadata": {},
   "outputs": [
    {
     "name": "stdin",
     "output_type": "stream",
     "text": [
      " enter a value [123,153]\n"
     ]
    },
    {
     "data": {
      "text/plain": [
       "{123: 'Not Armstrong', 153: 'Armstrong'}"
      ]
     },
     "execution_count": 4,
     "metadata": {},
     "output_type": "execute_result"
    }
   ],
   "source": [
    "v=eval(input(\" enter a value\"))\n",
    "a={}\n",
    "for z in v:\n",
    "    b=z\n",
    "    x=len(str(z))\n",
    "    sum=0\n",
    "    while z >0:\n",
    "        sum+=((z%10)**x)\n",
    "        z=z//10\n",
    "    if sum==b:\n",
    "        a[b]=\"Armstrong\"\n",
    "    else:\n",
    "        a[b]=\"Not Armstrong\"\n",
    "    \n",
    "a"
   ]
  },
  {
   "cell_type": "code",
   "execution_count": 29,
   "id": "d2764688-b8f8-4a3a-8ee4-c9e6b77255f4",
   "metadata": {},
   "outputs": [
    {
     "name": "stdout",
     "output_type": "stream",
     "text": [
      "2002,2009,2016,2023\n"
     ]
    }
   ],
   "source": [
    "num=[]\n",
    "for i in range(2000,2026):\n",
    "    if i%7==0 and i%5!=0:\n",
    "        num.append(str(i))     \n",
    "print(\",\".join(num))"
   ]
  },
  {
   "cell_type": "code",
   "execution_count": 45,
   "id": "4f06795a-e10a-467b-bd19-f98b5956539b",
   "metadata": {},
   "outputs": [
    {
     "name": "stdout",
     "output_type": "stream",
     "text": [
      "    \n",
      "   * \n",
      "  * * \n",
      " * * * \n",
      "* * * * \n"
     ]
    }
   ],
   "source": [
    "for row in range(5):\n",
    "    for spaces in range(4-row):\n",
    "        print(\" \",end=\"\")\n",
    "    for col in range(row):\n",
    "        print(\"*\",end=\" \")\n",
    "    print()"
   ]
  },
  {
   "cell_type": "code",
   "execution_count": 2,
   "id": "5f95729b-db9b-408a-a24f-78cc5db90b1a",
   "metadata": {},
   "outputs": [
    {
     "name": "stdin",
     "output_type": "stream",
     "text": [
      "enter a variable 121\n"
     ]
    },
    {
     "name": "stdout",
     "output_type": "stream",
     "text": [
      "palindrome \n"
     ]
    }
   ],
   "source": [
    "                 #PALINDROME OR NOT \n",
    "x=input(\"enter a variable\")\n",
    "if x==x[::-1]:\n",
    "    print(\"palindrome \")        # using slicing\n",
    "else:\n",
    "    print(\"not a palindrome\")\n"
   ]
  },
  {
   "cell_type": "code",
   "execution_count": 17,
   "id": "a7fb6fd3-b1e6-41cf-91a9-c031145c0501",
   "metadata": {},
   "outputs": [
    {
     "name": "stdin",
     "output_type": "stream",
     "text": [
      "enter a number or string 131\n"
     ]
    },
    {
     "name": "stdout",
     "output_type": "stream",
     "text": [
      "it is a palindrome\n"
     ]
    }
   ],
   "source": [
    "n=input(\"enter a number or string\")\n",
    "reverse=\"\"\n",
    "for i in range(len(n)-1,-1,-1):\n",
    "    \n",
    "    reverse+=n[i]             #using for loop\n",
    "if n==reverse:\n",
    "    print(\"it is a palindrome\")\n",
    "else:\n",
    "    print(\"it is not a palindrome\")"
   ]
  },
  {
   "cell_type": "code",
   "execution_count": 1,
   "id": "07ae8439-5399-4ebb-8519-7d0a74a60bad",
   "metadata": {},
   "outputs": [
    {
     "name": "stdout",
     "output_type": "stream",
     "text": [
      "0 red\n",
      "1 green\n",
      "2 blue\n"
     ]
    }
   ],
   "source": [
    "colors = [\"red\", \"green\", \"blue\"]\n",
    "for index, color in enumerate(colors):\n",
    "    print(index, color)\n"
   ]
  },
  {
   "cell_type": "code",
   "execution_count": 4,
   "id": "f978a764-515d-4a1a-ace3-985b6fa75466",
   "metadata": {},
   "outputs": [
    {
     "name": "stdout",
     "output_type": "stream",
     "text": [
      "Alice scored 85\n",
      "Bob scored 90\n",
      "Charlie scored 78\n"
     ]
    }
   ],
   "source": [
    "names = [\"Alice\", \"Bob\", \"Charlie\"]\n",
    "scores = [85, 90, 78]\n",
    "\n",
    "for name, score in zip(names, scores):\n",
    "    print(f\"{name} scored {score}\")\n"
   ]
  },
  {
   "cell_type": "code",
   "execution_count": 9,
   "id": "532b8d9b-75c1-46b9-be75-afa72b0c4f78",
   "metadata": {},
   "outputs": [
    {
     "name": "stdin",
     "output_type": "stream",
     "text": [
      " 5\n"
     ]
    },
    {
     "name": "stdout",
     "output_type": "stream",
     "text": [
      "120\n"
     ]
    }
   ],
   "source": [
    "x=int(input())\n",
    "n=1\n",
    "for i in range(1,x+1):\n",
    "    n*=i\n",
    "print(n)"
   ]
  },
  {
   "cell_type": "code",
   "execution_count": 8,
   "id": "f48e755c-f58a-4760-af3a-a1f13002c7a6",
   "metadata": {},
   "outputs": [
    {
     "data": {
      "text/plain": [
       "['()[]', '{}']"
      ]
     },
     "execution_count": 8,
     "metadata": {},
     "output_type": "execute_result"
    }
   ],
   "source": [
    "s = \"()[] {}\"\n",
    "s.split(\" \")"
   ]
  },
  {
   "cell_type": "code",
   "execution_count": 14,
   "id": "9e780233-bc4b-4be9-86d7-1df38067d6fa",
   "metadata": {},
   "outputs": [
    {
     "name": "stdout",
     "output_type": "stream",
     "text": [
      "5\n",
      "9\n",
      "11\n",
      "12\n"
     ]
    }
   ],
   "source": [
    "a ={2, 4, 5, 9}\n",
    "\n",
    "b = {2, 4, 11, 12}\n",
    "c=a.symmetric_difference(b)\n",
    "for i in c:\n",
    "    print(i)"
   ]
  },
  {
   "cell_type": "code",
   "execution_count": 28,
   "id": "352dac23-6da3-456e-bf2b-ee3c0279ce2a",
   "metadata": {},
   "outputs": [
    {
     "name": "stdout",
     "output_type": "stream",
     "text": [
      "   \n",
      "  *\n",
      " ***\n",
      "******\n",
      " *\n",
      "  *\n",
      "   \n",
      "    \n"
     ]
    }
   ],
   "source": [
    "x=5\n",
    "for rows in range(1,x):\n",
    "    for spaces in range(x-rows-1):\n",
    "        print(\" \",end=\"\")\n",
    "    for cols in range(rows):\n",
    "        if cols*2==0:\n",
    "            continue\n",
    "        print(\"*\"*cols,end=\"\")\n",
    "    print()\n",
    "for rows in range(1,x):\n",
    "    for spaces in range(rows):\n",
    "        print(\" \",end=\"\")\n",
    "    for cols in range(x-rows-1):\n",
    "        if cols%2==0:\n",
    "            continue\n",
    "        print(\"*\"*cols,end=\"\")\n",
    "    print()"
   ]
  },
  {
   "cell_type": "code",
   "execution_count": 29,
   "id": "9e641b1c-1ca3-48cd-bda5-19a4efce5d66",
   "metadata": {},
   "outputs": [
    {
     "name": "stdout",
     "output_type": "stream",
     "text": [
      "   \n",
      "  *\n",
      " *\n",
      "**\n",
      " *\n",
      "  *\n",
      "   \n",
      "    \n"
     ]
    }
   ],
   "source": [
    "x = 5\n",
    "\n",
    "# Upper half\n",
    "for rows in range(1, x):\n",
    "    for spaces in range(x - rows - 1):\n",
    "        print(\" \", end=\"\")\n",
    "    for cols in range(rows):\n",
    "        if cols % 2 == 0:  # skip even columns\n",
    "            continue\n",
    "        print(\"*\", end=\"\")\n",
    "    print()\n",
    "\n",
    "# Lower half\n",
    "for rows in range(1, x):\n",
    "    for spaces in range(rows):\n",
    "        print(\" \", end=\"\")\n",
    "    for cols in range(x - rows - 1):\n",
    "        if cols % 2 == 0:  # skip even columns\n",
    "            continue\n",
    "        print(\"*\", end=\"\")\n",
    "    print()\n"
   ]
  },
  {
   "cell_type": "code",
   "execution_count": 39,
   "id": "a00ebed1-748c-4eba-bf7b-9b1588e9ef2f",
   "metadata": {},
   "outputs": [
    {
     "name": "stdout",
     "output_type": "stream",
     "text": [
      "    *\n",
      "  *****\n",
      "*********\n",
      "  *****\n",
      "    *\n"
     ]
    }
   ],
   "source": [
    "x = 5  # height\n",
    "\n",
    "# Upper half\n",
    "for rows in range(1, x + 1):\n",
    "    if rows%2==0:\n",
    "        continue\n",
    "    print(\" \" * (x - rows) + \"*\" * (2 * rows-1 ))\n",
    "\n",
    "# Lower half\n",
    "for rows in range(x - 1, 0, -1):\n",
    "    if rows%2==0:\n",
    "        continue\n",
    "    print(\" \" * (x - rows) + \"*\" * (2 * rows - 1))\n"
   ]
  },
  {
   "cell_type": "code",
   "execution_count": 44,
   "id": "b4030620-416e-4477-9bdc-74824e5346ac",
   "metadata": {},
   "outputs": [
    {
     "name": "stdout",
     "output_type": "stream",
     "text": [
      "   1 \n",
      "  1 2 \n",
      " 1 2 3 \n",
      "1 2 3 4 \n"
     ]
    }
   ],
   "source": [
    "x=4\n",
    "for rows in range(1,5):\n",
    "    for spaces in range(4-rows):\n",
    "        print(\" \",end=\"\")\n",
    "    for cols in range(1,rows+1):\n",
    "        print(cols,end=\" \")\n",
    "    print()\n",
    "        "
   ]
  },
  {
   "cell_type": "code",
   "execution_count": 45,
   "id": "3df8b76d-54b1-4b89-a7fb-21969af4f63c",
   "metadata": {},
   "outputs": [
    {
     "name": "stdin",
     "output_type": "stream",
     "text": [
      " hello worlD\n"
     ]
    },
    {
     "name": "stdout",
     "output_type": "stream",
     "text": [
      "3\n"
     ]
    }
   ],
   "source": [
    "x=input()\n",
    "y=x.lower()\n",
    "count=0\n",
    "for i in y:\n",
    "    if i in \"aeiou\":\n",
    "        count+=1\n",
    "print(count)"
   ]
  },
  {
   "cell_type": "code",
   "execution_count": null,
   "id": "cb075cd0-c635-46fb-a5e8-84fe5900b224",
   "metadata": {},
   "outputs": [],
   "source": []
  }
 ],
 "metadata": {
  "kernelspec": {
   "display_name": "Python [conda env:base] *",
   "language": "python",
   "name": "conda-base-py"
  },
  "language_info": {
   "codemirror_mode": {
    "name": "ipython",
    "version": 3
   },
   "file_extension": ".py",
   "mimetype": "text/x-python",
   "name": "python",
   "nbconvert_exporter": "python",
   "pygments_lexer": "ipython3",
   "version": "3.13.5"
  }
 },
 "nbformat": 4,
 "nbformat_minor": 5
}
