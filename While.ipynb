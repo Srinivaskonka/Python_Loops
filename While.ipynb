{
 "cells": [
  {
   "cell_type": "markdown",
   "id": "8c824694-d0cf-43bd-b8c6-c43a9dd88b39",
   "metadata": {},
   "source": [
    "### While Loop"
   ]
  },
  {
   "cell_type": "markdown",
   "id": "d2b674b0-556f-4d8d-8935-4646f7ea425e",
   "metadata": {},
   "source": [
    "#### Repeat  while a condition is True"
   ]
  },
  {
   "cell_type": "code",
   "execution_count": null,
   "id": "3fa0502a-06e0-433d-b21c-4b647e621b52",
   "metadata": {},
   "outputs": [],
   "source": [
    "syntax:\n",
    "while condition:\n",
    "     # block"
   ]
  },
  {
   "cell_type": "code",
   "execution_count": null,
   "id": "0a751caf-bbf0-4833-bdce-973f6c617f03",
   "metadata": {},
   "outputs": [],
   "source": [
    " while Loop – Logic-Based Repetition"
   ]
  },
  {
   "cell_type": "code",
   "execution_count": null,
   "id": "5cd17f0c-a988-4bd2-ba33-824711a93218",
   "metadata": {},
   "outputs": [],
   "source": [
    "x = 5\n",
    "while x > 0:\n",
    "    print(x)\n",
    "    x -= 1"
   ]
  },
  {
   "cell_type": "code",
   "execution_count": null,
   "id": "62681a1f-be76-4c2f-8a15-f48c05f76f10",
   "metadata": {},
   "outputs": [],
   "source": [
    " break Statement – Exit Early"
   ]
  },
  {
   "cell_type": "code",
   "execution_count": 5,
   "id": "46f32b49-02c1-4157-b7fa-9b2db630ee1a",
   "metadata": {},
   "outputs": [
    {
     "name": "stdout",
     "output_type": "stream",
     "text": [
      "0\n",
      "1\n",
      "2\n",
      "3\n",
      "4\n"
     ]
    }
   ],
   "source": [
    "for i in range(10):\n",
    "    if i == 5:\n",
    "        break\n",
    "    print(i)"
   ]
  },
  {
   "cell_type": "code",
   "execution_count": null,
   "id": "72dcfbb5-0465-44bb-acc3-bdb56b4b5692",
   "metadata": {},
   "outputs": [],
   "source": [
    "continue Statement – Skip Current Iteration"
   ]
  },
  {
   "cell_type": "code",
   "execution_count": 6,
   "id": "9f2608b6-3beb-4655-a6a0-dc299403b72a",
   "metadata": {},
   "outputs": [
    {
     "name": "stdout",
     "output_type": "stream",
     "text": [
      "0\n",
      "1\n",
      "3\n",
      "4\n"
     ]
    }
   ],
   "source": [
    "for i in range(5):\n",
    "    if i == 2:\n",
    "        continue\n",
    "    print(i)\n"
   ]
  },
  {
   "cell_type": "code",
   "execution_count": null,
   "id": "14c4222a-9d3d-482f-a61e-ebbc97395b1f",
   "metadata": {},
   "outputs": [],
   "source": [
    "for Loop – Complete Syntax & Usage:\n",
    "for variable in iterable:\n",
    "    # block of code"
   ]
  },
  {
   "cell_type": "code",
   "execution_count": null,
   "id": "fce714fe-7dd1-4dd3-a8e9-abc94b57c772",
   "metadata": {},
   "outputs": [],
   "source": [
    "Iterates over:\n",
    "Strings\n",
    "Lists\n",
    "Tuples\n",
    "Dictionaries\n",
    "Sets\n",
    "Files\n",
    "Ranges\n",
    "Generators"
   ]
  },
  {
   "cell_type": "code",
   "execution_count": 2,
   "id": "734eb1ca-c644-4079-b4cc-098f5bcd801e",
   "metadata": {},
   "outputs": [
    {
     "name": "stdout",
     "output_type": "stream",
     "text": [
      "APPLE\n",
      "BANANA\n",
      "CHERRY\n"
     ]
    }
   ],
   "source": [
    "fruits = [\"apple\", \"banana\", \"cherry\"]\n",
    "for fruit in fruits:\n",
    "    print(fruit.upper())"
   ]
  },
  {
   "cell_type": "code",
   "execution_count": null,
   "id": "0cecb655-f35b-49a0-ba77-c4fb5aff67f6",
   "metadata": {},
   "outputs": [],
   "source": [
    " range() in Loops-----range(start, stop, step)"
   ]
  },
  {
   "cell_type": "code",
   "execution_count": 3,
   "id": "0eea0923-dfe7-4281-8f89-c53540ec175e",
   "metadata": {},
   "outputs": [
    {
     "name": "stdout",
     "output_type": "stream",
     "text": [
      "1\n",
      "2\n",
      "3\n",
      "4\n",
      "5\n"
     ]
    }
   ],
   "source": [
    "for i in range(1, 6):\n",
    "    print(i)\n"
   ]
  },
  {
   "cell_type": "code",
   "execution_count": null,
   "id": "57e8f2e1-4d1f-464d-9a5d-5d4e0672fa62",
   "metadata": {},
   "outputs": [],
   "source": [
    " Looping with Index – enumerate()\n",
    "enumerate() gives:\n",
    "Current index\n",
    "Current item"
   ]
  },
  {
   "cell_type": "code",
   "execution_count": null,
   "id": "a81673ed-db39-4adc-9f69-ca53edd34228",
   "metadata": {},
   "outputs": [],
   "source": [
    "colors = [\"red\", \"green\", \"blue\"]\n",
    "for index, color in enumerate(colors):\n",
    "    print(index, color)"
   ]
  },
  {
   "cell_type": "code",
   "execution_count": null,
   "id": "1f34a886-a1f9-4611-b65d-c34dc7c0a98e",
   "metadata": {},
   "outputs": [],
   "source": [
    "Parallel Looping – zip()---Stops at the shortest sequence."
   ]
  },
  {
   "cell_type": "code",
   "execution_count": 4,
   "id": "f237ef96-9da6-481d-9e5a-6ab88b7d050a",
   "metadata": {},
   "outputs": [
    {
     "name": "stdout",
     "output_type": "stream",
     "text": [
      "Alice scored 85\n",
      "Bob scored 90\n",
      "Charlie scored 78\n"
     ]
    }
   ],
   "source": [
    "names = [\"Alice\", \"Bob\", \"Charlie\"]\n",
    "scores = [85, 90, 78]\n",
    "\n",
    "for name, score in zip(names, scores):\n",
    "    print(f\"{name} scored {score}\")\n"
   ]
  },
  {
   "cell_type": "code",
   "execution_count": null,
   "id": "bcf29783-515a-4ca9-9ff9-4514dd5439e6",
   "metadata": {},
   "outputs": [],
   "source": [
    "else with Loops"
   ]
  },
  {
   "cell_type": "code",
   "execution_count": null,
   "id": "2584e3a0-99fd-4faf-a89b-98991e1d2d62",
   "metadata": {},
   "outputs": [],
   "source": []
  },
  {
   "cell_type": "code",
   "execution_count": null,
   "id": "c89c399d-95b7-48b0-a33c-7456179c8c95",
   "metadata": {},
   "outputs": [],
   "source": [
    " else runs only if the loop didn’t break"
   ]
  },
  {
   "cell_type": "code",
   "execution_count": null,
   "id": "d5294260-976a-452c-80c7-d0abf77b586e",
   "metadata": {},
   "outputs": [],
   "source": [
    "for i in range(3):\n",
    "    print(i)\n",
    "else:\n",
    "    print(\"No break occurred\")\n"
   ]
  },
  {
   "cell_type": "code",
   "execution_count": 1,
   "id": "82e32c92-eca7-4625-a253-e5581fbb9901",
   "metadata": {},
   "outputs": [
    {
     "name": "stdout",
     "output_type": "stream",
     "text": [
      "i=0, j=0\n",
      "i=0, j=1\n",
      "i=1, j=0\n",
      "i=1, j=1\n",
      "i=2, j=0\n",
      "i=2, j=1\n"
     ]
    }
   ],
   "source": [
    "for i in range(3):\n",
    "    for j in range(2):\n",
    "        print(f\"i={i}, j={j}\")\n"
   ]
  },
  {
   "cell_type": "code",
   "execution_count": null,
   "id": "08e30dd1-5eae-46ac-9fd7-195972cc7e72",
   "metadata": {},
   "outputs": [],
   "source": []
  },
  {
   "cell_type": "code",
   "execution_count": null,
   "id": "cb0a2b2d-4753-4d61-a2f4-d1262f48e692",
   "metadata": {},
   "outputs": [],
   "source": []
  },
  {
   "cell_type": "code",
   "execution_count": null,
   "id": "7d4710c2-7da0-471a-b366-13cf53d596f2",
   "metadata": {},
   "outputs": [],
   "source": [
    "Looping Dictionary"
   ]
  },
  {
   "cell_type": "code",
   "execution_count": 5,
   "id": "45e17d4a-365d-4e6e-aa8e-8d08ed8135c9",
   "metadata": {},
   "outputs": [
    {
     "name": "stdout",
     "output_type": "stream",
     "text": [
      "srinivas 12\n",
      "vamsi 14\n"
     ]
    }
   ],
   "source": [
    "person={\"srinivas\":12,\"vamsi\":14}\n",
    "for i , j in person.items():\n",
    "    print(i,j)"
   ]
  },
  {
   "cell_type": "code",
   "execution_count": null,
   "id": "dba088b8-ea9e-4a5f-8498-3b9e70505333",
   "metadata": {},
   "outputs": [],
   "source": []
  },
  {
   "cell_type": "code",
   "execution_count": null,
   "id": "2d0cfd8d-90e6-49cf-a56b-7f0f9a80e190",
   "metadata": {},
   "outputs": [],
   "source": [
    " Looping Sets"
   ]
  },
  {
   "cell_type": "code",
   "execution_count": null,
   "id": "23c3cc27-c263-452a-9b04-5303d8edb62d",
   "metadata": {},
   "outputs": [],
   "source": []
  },
  {
   "cell_type": "code",
   "execution_count": 6,
   "id": "b938a8c6-8618-4071-8f0b-48d5b302d1fe",
   "metadata": {},
   "outputs": [
    {
     "name": "stdout",
     "output_type": "stream",
     "text": [
      "1\n",
      "2\n",
      "3\n"
     ]
    }
   ],
   "source": [
    "s = {1, 2, 3}\n",
    "for val in s:\n",
    "    print(val)\n"
   ]
  },
  {
   "cell_type": "code",
   "execution_count": null,
   "id": "cce00c4d-8481-4682-85b9-6281f6860b3c",
   "metadata": {},
   "outputs": [],
   "source": []
  },
  {
   "cell_type": "code",
   "execution_count": null,
   "id": "edd150a3-531c-4a90-9133-d4c607744b3d",
   "metadata": {},
   "outputs": [],
   "source": []
  },
  {
   "cell_type": "code",
   "execution_count": null,
   "id": "579aaf18-7e06-47b9-94ed-386ee61a27c5",
   "metadata": {},
   "outputs": [],
   "source": []
  },
  {
   "cell_type": "code",
   "execution_count": 6,
   "id": "7f1d9f7e-f772-4d95-987b-b5cd2971679d",
   "metadata": {},
   "outputs": [
    {
     "name": "stdout",
     "output_type": "stream",
     "text": [
      "1 Neither Prime nor Composite\n",
      "2 prime\n",
      "3 Odd and Prime\n",
      "4 even\n",
      "5 Odd and Prime\n",
      "6 even\n",
      "7 Odd and Prime\n",
      "8 even\n",
      "9 Odd\n",
      "10 even\n"
     ]
    }
   ],
   "source": [
    "x=10\n",
    "i=1\n",
    "while i<=x:\n",
    "    if i%2==0:\n",
    "        a=2\n",
    "        while a<=i-1:\n",
    "            if i%a==0:\n",
    "                count+=1\n",
    "            a+=1\n",
    "        if count==0:\n",
    "            print(i,\"prime\")\n",
    "        else:\n",
    "            print(i,\"even\")\n",
    "    else:\n",
    "        count=0\n",
    "        a=2\n",
    "        while a <= i - 1:\n",
    "            if i % a == 0:\n",
    "                count += 1\n",
    "            a += 1\n",
    "        if i == 1:\n",
    "            print(i, \"Neither Prime nor Composite\")\n",
    "        elif count == 0:\n",
    "            print(i, \"Odd and Prime\")\n",
    "        else:\n",
    "            print(i, \"Odd\")\n",
    "    i += 1\n",
    "        "
   ]
  },
  {
   "cell_type": "code",
   "execution_count": null,
   "id": "48bfd3e4-ef6b-4c33-ba7d-902f73cba4b7",
   "metadata": {},
   "outputs": [],
   "source": []
  },
  {
   "cell_type": "code",
   "execution_count": null,
   "id": "fc622312-4a2b-48e5-b7aa-42c166413f71",
   "metadata": {},
   "outputs": [],
   "source": []
  },
  {
   "cell_type": "code",
   "execution_count": 1,
   "id": "d2e690ba-a9a0-490d-9fad-5f5ee9bd7e45",
   "metadata": {},
   "outputs": [
    {
     "name": "stdout",
     "output_type": "stream",
     "text": [
      "1 Neither Prime nor Composite\n",
      "2 Even and Prime\n",
      "3 Odd and Prime\n",
      "4 Even\n",
      "5 Odd and Prime\n",
      "6 Even\n",
      "7 Odd and Prime\n",
      "8 Even\n",
      "9 Odd\n",
      "10 Even\n"
     ]
    }
   ],
   "source": [
    "x = 10\n",
    "i = 1\n",
    "\n",
    "while i <= x:\n",
    "    if i % 2 == 0:  \n",
    "        count = 0\n",
    "        a = 2\n",
    "        while a <= i - 1:\n",
    "            if i % a == 0:\n",
    "                count += 1\n",
    "            a += 1\n",
    "        if count == 0 and i != 2:\n",
    "            print(i, \"Even but Prime\")\n",
    "        elif i == 2:\n",
    "            print(i, \"Even and Prime\") \n",
    "        else:\n",
    "            print(i, \"Even\")\n",
    "    else:\n",
    "        count = 0\n",
    "        a = 2\n",
    "        while a <= i - 1:\n",
    "            if i % a == 0:\n",
    "                count += 1\n",
    "            a += 1\n",
    "        if i == 1:\n",
    "            print(i, \"Neither Prime nor Composite\")\n",
    "        elif count == 0:\n",
    "            print(i, \"Odd and Prime\")\n",
    "        else:\n",
    "            print(i, \"Odd\")\n",
    "    i += 1\n"
   ]
  },
  {
   "cell_type": "code",
   "execution_count": 7,
   "id": "4f2714ca-54d7-48c3-93c6-791f56ac66dc",
   "metadata": {},
   "outputs": [
    {
     "data": {
      "text/plain": [
       "False"
      ]
     },
     "execution_count": 7,
     "metadata": {},
     "output_type": "execute_result"
    }
   ],
   "source": [
    "1%2==0"
   ]
  },
  {
   "cell_type": "code",
   "execution_count": 16,
   "id": "991d2774-76a3-4e8b-98e2-3adff8acfc5d",
   "metadata": {},
   "outputs": [
    {
     "data": {
      "text/plain": [
       "1"
      ]
     },
     "execution_count": 16,
     "metadata": {},
     "output_type": "execute_result"
    }
   ],
   "source": [
    "j=1\n",
    "count=0\n",
    "while j<=3:\n",
    "    if j%3==0:\n",
    "        count+=1\n",
    "    j+=1\n",
    "count"
   ]
  },
  {
   "cell_type": "code",
   "execution_count": 19,
   "id": "f7291942-1937-4f6d-9c14-c2399a2b989a",
   "metadata": {},
   "outputs": [
    {
     "data": {
      "text/plain": [
       "True"
      ]
     },
     "execution_count": 19,
     "metadata": {},
     "output_type": "execute_result"
    }
   ],
   "source": [
    "3%3==0"
   ]
  },
  {
   "cell_type": "code",
   "execution_count": null,
   "id": "27dc36e4-ec4b-4988-baad-b9bdc0c2511a",
   "metadata": {},
   "outputs": [],
   "source": []
  }
 ],
 "metadata": {
  "kernelspec": {
   "display_name": "Python [conda env:base] *",
   "language": "python",
   "name": "conda-base-py"
  },
  "language_info": {
   "codemirror_mode": {
    "name": "ipython",
    "version": 3
   },
   "file_extension": ".py",
   "mimetype": "text/x-python",
   "name": "python",
   "nbconvert_exporter": "python",
   "pygments_lexer": "ipython3",
   "version": "3.13.5"
  }
 },
 "nbformat": 4,
 "nbformat_minor": 5
}
